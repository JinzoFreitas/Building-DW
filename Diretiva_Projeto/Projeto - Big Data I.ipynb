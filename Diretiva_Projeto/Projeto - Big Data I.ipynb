{
 "cells": [
  {
   "cell_type": "markdown",
   "id": "a2863775",
   "metadata": {},
   "source": [
    "> # Projeto: Técnicas de Programação I"
   ]
  },
  {
   "cell_type": "markdown",
   "id": "88e0f32f",
   "metadata": {},
   "source": [
    "#### 1. **Descrição**<br>\n",
    "Este notebook contém a descrição do projeto prático do módulo: Big Data I. Neste projeto aplicaremos as técnicas aprendidas em aula para criarmos processo de ETL em uma plataforma de Cloud."
   ]
  },
  {
   "cell_type": "markdown",
   "id": "66838e66",
   "metadata": {},
   "source": [
    "#### 2. **Objetivo**<br> \n",
    "Construir um pipeline de ETL (`Extract-Transform-Load`) para a construção de um Data Warehouse na plataforma DataBricks Community. "
   ]
  },
  {
   "cell_type": "markdown",
   "id": "f01ce350",
   "metadata": {},
   "source": [
    "#### 3. **Etapas**<br>\n",
    "1 - Exportar as tabelas do Northwind em .CSV.\n",
    "\n",
    "2 - Carregar para camada Raw de um Data Lake no DBFS (botão de upload).\n",
    "\n",
    "3 - Salvar dados em formato parquet em uma segunda camada, trusted.\n",
    "\n",
    "4 - Modelar a base de dados Northwind em formato Star Schema ou Snowflake para criação de um Data Warehouse.\n",
    "\n",
    "Opcional - Criar em uma terceira camada, refined, um Data Lakehouse com o modelo do passo anterior, através de Delta Tables, com ao menos duas tabelas agregadas.\n",
    "\n",
    "#### 4. **Análises com Apache Spark**<br>\n",
    "1 - Quais são os três produtos MENOS vendidos?\n",
    "\n",
    "2 - Quais são os cinco clientes que MAIS compras fizeram? (quantidade)\n",
    "\n",
    "3 - Quais são os cinco clientes com MAIOR total gasto? (montante)\n",
    "\n",
    "4 - Qual o melhor funcionário do último mês registrado? (total de vendas)\n",
    "\n",
    "5 - Quais as regiões com menos clientes cadastrados?"
   ]
  },
  {
   "cell_type": "markdown",
   "id": "98443e11",
   "metadata": {},
   "source": [
    "**Fontes de dados alternativas**<br>\n",
    "Esta é uma lista de fontes que vocês podem utilizar como alternativa a base Northwind. Você está livre para utilizar esta e outras fontes de dados que não estejam listadas nesse documento, desde que haja uma concordância prévia com o professor."
   ]
  },
  {
   "cell_type": "markdown",
   "id": "894938c3",
   "metadata": {},
   "source": [
    "#### Fontes de dados sugeridas:\n",
    " - Covid19br (https://github.com/wcota/covid19br/)\n",
    " - Agência Nacional de Petróleo e Gás (https://bit.ly/3hf8rbZ)\n",
    " - DataSUS (ftp.datasus.gov.br)*\n",
    " - Dados.gov.br (https://bit.ly/3fPA1MO)\n",
    " - Kaggle (https://www.kaggle.com/)\n",
    " \n",
    "*Obs: pode ser acessado por um cliente FTP (Ex.: Filezilla)"
   ]
  },
  {
   "cell_type": "markdown",
   "id": "77b1f399",
   "metadata": {},
   "source": [
    "**Organização e entregáveis**"
   ]
  },
  {
   "cell_type": "markdown",
   "id": "664ce72e",
   "metadata": {},
   "source": [
    "O projeto pode ser feito em grupo de até 05 participantes.<br> \n",
    "O projeto completo (Notebook, código-fonte, link para fontes, bases e demais artefatos) deve ser publicado no Github.<br>\n",
    "O projeto completo (Notebook, código-fonte, link para fontes, bases e demais artefatos) deve ser enviado por e-mail (alexlimacavalera@gmail.com) com nome dos participantes e link do repositório no github.<br>"
   ]
  },
  {
   "cell_type": "markdown",
   "id": "df54697b",
   "metadata": {},
   "source": [
    "#### Critérios de avaliação"
   ]
  },
  {
   "cell_type": "markdown",
   "id": "b4302164",
   "metadata": {},
   "source": [
    "A avaliação será feita com base nos artefatos entregues e na sua apresentação.<br> \n",
    "A estrutura abaixo lista sugestões do que pode conter no seu trabalho. "
   ]
  },
  {
   "cell_type": "markdown",
   "id": "45388f31",
   "metadata": {},
   "source": [
    " - Entregáveis\n",
    "   - Arquitetura do DW;\n",
    "   - Diagrama de entidade e relacionamento de cada camada;\n",
    "   - Notebooks para a construção do datalake;\n",
    "   - Notebooks para a análise dos dados;\n"
   ]
  },
  {
   "cell_type": "markdown",
   "id": "6796d747",
   "metadata": {},
   "source": [
    "#### Deadline\n",
    "**Apresentação**: 16/02/2023 <br>\n",
    "**Tempo de apresentação**: A depender da quantidade de grupos. (Aproximadamente de 15 ~ 20 minutos)"
   ]
  },
  {
   "cell_type": "code",
   "execution_count": null,
   "id": "31ffa1c5",
   "metadata": {},
   "outputs": [],
   "source": []
  }
 ],
 "metadata": {
  "kernelspec": {
   "display_name": "Python 3 (ipykernel)",
   "language": "python",
   "name": "python3"
  },
  "language_info": {
   "codemirror_mode": {
    "name": "ipython",
    "version": 3
   },
   "file_extension": ".py",
   "mimetype": "text/x-python",
   "name": "python",
   "nbconvert_exporter": "python",
   "pygments_lexer": "ipython3",
   "version": "3.7.15"
  }
 },
 "nbformat": 4,
 "nbformat_minor": 5
}
